{
 "cells": [
  {
   "cell_type": "markdown",
   "metadata": {},
   "source": [
    "# Problem 1\n",
    "\n",
    "### Given two strings (string_a and string_b) lets check whether or not they are anagrams of each other given the following criteria:\n",
    "\n",
    ">Two strings are only anagrams of each other if all conditions below are met:\n",
    "> * They must be exactly the same length.\n",
    "> * They must use exactly the same characters (no more, no less).\n",
    "Example: cars and scar, heart and earth, etc."
   ]
  },
  {
   "cell_type": "code",
   "execution_count": 2,
   "metadata": {},
   "outputs": [],
   "source": [
    "def does_it_match(string_a, string_b):\n",
    "    return len(string_a) == len(string_b) and sorted(string_a) == sorted(string_b)"
   ]
  },
  {
   "cell_type": "code",
   "execution_count": 115,
   "metadata": {},
   "outputs": [],
   "source": [
    "\n",
    "def is_anagram(string_a, string_b):\n",
    "    \n",
    "    string_a = ''.join(string_a.split()).lower()\n",
    "    string_b = ''.join(string_b.split()).lower()\n",
    "    \n",
    "    if len(string_a) != len(string_b):             # coverling the length case\n",
    "        return False                               # Simple endge case\n",
    "    char_times_a = dict()                          # dicts are fast\n",
    "    char_times_b = dict()                          # num of occurances per char\n",
    "    for i in range(len(string_a)):                 # must know they are equal length\n",
    "        if string_a[i] not in char_times_a.keys(): # count how many times we see\n",
    "            char_times_a[string_a[i]] = 0          # each character\n",
    "        else:\n",
    "            char_times_a[string_a[i]] += 1\n",
    "        if string_b[i] not in char_times_b.keys():\n",
    "            char_times_b[string_b[i]] = 0          # It doesn't matter that these are\n",
    "        else:                                      # different chars that i is accessing\n",
    "            char_times_b[string_b[i]] += 1\n",
    "    return char_times_a == char_times_b            # as long as these two are equal.\n",
    "            \n"
   ]
  },
  {
   "cell_type": "code",
   "execution_count": null,
   "metadata": {},
   "outputs": [],
   "source": []
  },
  {
   "cell_type": "code",
   "execution_count": null,
   "metadata": {},
   "outputs": [],
   "source": []
  },
  {
   "cell_type": "code",
   "execution_count": 116,
   "metadata": {
    "scrolled": false
   },
   "outputs": [
    {
     "data": {
      "text/plain": [
       "True"
      ]
     },
     "execution_count": 116,
     "metadata": {},
     "output_type": "execute_result"
    }
   ],
   "source": [
    "is_anagram(\"I am Lord Voldemort\", \"Tom Marvolo Riddle\")"
   ]
  },
  {
   "cell_type": "code",
   "execution_count": 117,
   "metadata": {},
   "outputs": [
    {
     "data": {
      "text/plain": [
       "'hellomybuddyolepal'"
      ]
     },
     "execution_count": 117,
     "metadata": {},
     "output_type": "execute_result"
    }
   ],
   "source": [
    "def string_it():\n",
    "    muck = \" Hello My buddy ole pal \"\n",
    "    return ''.join(muck.split()).lower()\n",
    "string_it()\n"
   ]
  },
  {
   "cell_type": "code",
   "execution_count": 118,
   "metadata": {},
   "outputs": [
    {
     "data": {
      "text/plain": [
       "True"
      ]
     },
     "execution_count": 118,
     "metadata": {},
     "output_type": "execute_result"
    }
   ],
   "source": [
    "is_anagram('CDudeola Man', 'maN cola dude')"
   ]
  },
  {
   "cell_type": "code",
   "execution_count": 7,
   "metadata": {},
   "outputs": [],
   "source": [
    "class Stack:\n",
    "    def __init__(self):\n",
    "        self.items = []\n",
    "        \n",
    "    def is_empty(self):\n",
    "        return self.items == []\n",
    "    \n",
    "    def push(self, item):\n",
    "        self.items.append(item)\n",
    "        \n",
    "    def pop(self):\n",
    "        return self.items.pop()\n",
    "    \n",
    "    def peek(self):\n",
    "        return self.items[len(self.items)-1]\n",
    "    \n",
    "    def size(self):\n",
    "        return len(self.items)"
   ]
  },
  {
   "cell_type": "markdown",
   "metadata": {},
   "source": [
    "# use stack to reverse string"
   ]
  },
  {
   "cell_type": "code",
   "execution_count": 6,
   "metadata": {},
   "outputs": [],
   "source": [
    "class Stack:\n",
    "    def __init__(self):\n",
    "        self.items = []\n",
    "        \n",
    "    def is_empty(self):\n",
    "        return self.items == []\n",
    "    \n",
    "    def push(self, item):\n",
    "        self.items.append(item)\n",
    "        \n",
    "    def pop(self):\n",
    "        return self.items.pop()\n",
    "    \n",
    "    def peek(self):\n",
    "        return self.items[len(self.items)-1]\n",
    "    \n",
    "    def size(self):\n",
    "        return len(self.items)\n",
    "\n",
    "    \n",
    "def reverse_str(word):\n",
    "    stack = Stack()\n",
    "    for letter in word:\n",
    "        stack.push(letter)\n",
    "    _reversed = \"\"\n",
    "    while not stack.is_empty():\n",
    "        _reversed += stack.pop()\n",
    "    print(_reversed)\n",
    "    return _reversed\n",
    "        \n",
    "        "
   ]
  },
  {
   "cell_type": "code",
   "execution_count": 10,
   "metadata": {},
   "outputs": [
    {
     "name": "stdout",
     "output_type": "stream",
     "text": [
      "racecar\n",
      "UKGDS\n",
      "gnop gnip\n",
      "ddd ccc bbb aaa\n"
     ]
    }
   ],
   "source": [
    "def test_reverse_str():\n",
    "    assert reverse_str(\"racecar\") == \"racecar\"\n",
    "    assert reverse_str(\"SDGKU\") == \"UKGDS\"\n",
    "    assert reverse_str(\"ping pong\") == \"gnop gnip\"\n",
    "    reverse_str('aaa bbb ccc ddd')\n",
    "    \n",
    "test_reverse_str()"
   ]
  },
  {
   "cell_type": "code",
   "execution_count": 439,
   "metadata": {},
   "outputs": [
    {
     "name": "stdout",
     "output_type": "stream",
     "text": [
      "[120, 60, 40, 30, 24]\n"
     ]
    }
   ],
   "source": [
    "scores = [1, 2, 3, 4, 5]\n",
    "elist = []\n",
    "\n",
    "# get product of a list\n",
    "def multiply_self(list):\n",
    "    res = 1  \n",
    "    for x in list:\n",
    "        res *= x\n",
    "    return res\n",
    "# isolates list minus an index\n",
    "\n",
    "def make_num(index):\n",
    "        temp = []\n",
    "        retnum = 0\n",
    "        temp = scores[:index] + scores[index+1:]\n",
    "        retnum = multiply_self(temp)\n",
    "        return retnum\n",
    "\n",
    "#combines the two previous functions and iterates\n",
    "def combine():\n",
    "    for i in scores:\n",
    "        temp = 0\n",
    "        temp = make_num(i-1)\n",
    "        elist.append(temp)\n",
    "        \n",
    "combine()\n",
    "print(elist)"
   ]
  },
  {
   "cell_type": "code",
   "execution_count": 382,
   "metadata": {},
   "outputs": [],
   "source": [
    "class Queue:\n",
    "    def __init__(self):\n",
    "        self.items = []\n",
    "    def is_empty(self):\n",
    "        return self.items == []\n",
    "    def enqueue(self, item):\n",
    "        self.items.insert(0, item)\n",
    "    def dequeue(self):\n",
    "        return self.items.pop()\n",
    "    def peek(self):\n",
    "        return self.items[len(self.items)-1]\n",
    "    def size(self):\n",
    "        return len(self.items)"
   ]
  },
  {
   "cell_type": "code",
   "execution_count": 10,
   "metadata": {},
   "outputs": [],
   "source": [
    "from string import ascii_lowercase\n",
    "from random import randint, choice\n",
    "from time import sleep\n",
    "    \n",
    "def register_visitors(visitor_queue):\n",
    "    for char in ascii_lowercase:\n",
    "        visitor_queue.enqueue(char)\n",
    "    \n",
    "def service_customers(visitor_queue):\n",
    "    bank_tellers = [\"A\",\"B\",\"C\",\"D\",\"E\",\"F\",\"G\"]\n",
    "    while not visitor_queue.is_empty():\n",
    "        visitor = visitor_queue.dequeue()\n",
    "        print(\"Thank you for waiting %s, station %s is ready for you.\" % (visitor, choice(bank_tellers)))\n",
    "        sleep(randint(1,2))\n",
    "    print(\"Empty visitor queue\")\n",
    "    \n",
    "def main():\n",
    "    visitor_queue = Queue()\n",
    "    register_visitors(visitor_queue)\n",
    "    service_customers(visitor_queue)"
   ]
  },
  {
   "cell_type": "code",
   "execution_count": 11,
   "metadata": {
    "scrolled": true
   },
   "outputs": [
    {
     "name": "stdout",
     "output_type": "stream",
     "text": [
      "Thank you for waiting a, station B is ready for you.\n",
      "Thank you for waiting b, station C is ready for you.\n",
      "Thank you for waiting c, station D is ready for you.\n",
      "Thank you for waiting d, station E is ready for you.\n",
      "Thank you for waiting e, station G is ready for you.\n",
      "Thank you for waiting f, station E is ready for you.\n",
      "Thank you for waiting g, station F is ready for you.\n",
      "Thank you for waiting h, station G is ready for you.\n",
      "Thank you for waiting i, station F is ready for you.\n",
      "Thank you for waiting j, station D is ready for you.\n",
      "Thank you for waiting k, station B is ready for you.\n",
      "Thank you for waiting l, station A is ready for you.\n",
      "Thank you for waiting m, station F is ready for you.\n",
      "Thank you for waiting n, station C is ready for you.\n",
      "Thank you for waiting o, station G is ready for you.\n",
      "Thank you for waiting p, station A is ready for you.\n",
      "Thank you for waiting q, station F is ready for you.\n",
      "Thank you for waiting r, station C is ready for you.\n",
      "Thank you for waiting s, station D is ready for you.\n",
      "Thank you for waiting t, station E is ready for you.\n",
      "Thank you for waiting u, station E is ready for you.\n",
      "Thank you for waiting v, station C is ready for you.\n",
      "Thank you for waiting w, station G is ready for you.\n",
      "Thank you for waiting x, station E is ready for you.\n",
      "Thank you for waiting y, station F is ready for you.\n",
      "Thank you for waiting z, station D is ready for you.\n",
      "Empty visitor queue\n"
     ]
    }
   ],
   "source": [
    "main()"
   ]
  },
  {
   "cell_type": "code",
   "execution_count": 22,
   "metadata": {},
   "outputs": [],
   "source": [
    "def balance_check(str):\n",
    "    if len(str)%2 != 0:\n",
    "        return False\n",
    "    opening = set(\"([{\")\n",
    "    matches = set([\n",
    "         (\"(\", \")\"),\n",
    "         (\"[\", \"]\"),\n",
    "         (\"{\", \"}\")])\n",
    "    \n",
    "    stack = Stack()  \n",
    "    for paren in str:\n",
    "        if paren in opening:\n",
    "            stack.push(paren)\n",
    "        else:\n",
    "            if stack.is_empty():\n",
    "                return False\n",
    "            last_open = stack.pop()\n",
    "            if (last_open, paren) not in matches:\n",
    "                return False\n",
    "    return stack.is_empty()\n",
    "            \n",
    "                                              "
   ]
  },
  {
   "cell_type": "code",
   "execution_count": 28,
   "metadata": {},
   "outputs": [
    {
     "data": {
      "text/plain": [
       "True"
      ]
     },
     "execution_count": 28,
     "metadata": {},
     "output_type": "execute_result"
    }
   ],
   "source": [
    "balance_check('({()()})')"
   ]
  },
  {
   "cell_type": "code",
   "execution_count": null,
   "metadata": {},
   "outputs": [],
   "source": [
    "# Given a list of integers, write a function that will return a list,\n",
    "# in which for each index the element will be the product of all the \n",
    "# integers except for the element at that index.\n",
    "\n",
    "# For example,\n",
    "# an input of [1, 2, 3, 4]\n",
    "# would return [24, 12, 8, 6] by performing [2x3x4, 1x3x4, 1x2x4, 1x2x3]."
   ]
  }
 ],
 "metadata": {
  "interpreter": {
   "hash": "aee8b7b246df8f9039afb4144a1f6fd8d2ca17a180786b69acc140d282b71a49"
  },
  "kernelspec": {
   "display_name": "Python 3.9.5 64-bit",
   "name": "python3"
  },
  "language_info": {
   "name": "python",
   "version": ""
  }
 },
 "nbformat": 4,
 "nbformat_minor": 5
}